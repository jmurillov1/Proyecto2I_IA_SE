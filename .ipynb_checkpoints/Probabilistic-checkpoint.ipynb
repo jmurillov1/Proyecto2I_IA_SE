{
 "cells": [
  {
   "cell_type": "markdown",
   "metadata": {},
   "source": [
    "# Estructurar el aprendizaje con PyMC3\n",
    "\n",
    "PyMC3 Es un paquete de Python para modelado estadístico bayesiano y aprendizaje automático probabilístico que se enfoca en la avanzada cadena de Markov Monte Carlo y algoritmos de ajuste variacional. Es una reescritura desde cero de la versión anterior del software PyMC."
   ]
  },
  {
   "cell_type": "code",
   "execution_count": 7,
   "metadata": {},
   "outputs": [],
   "source": [
    "import numpy\n",
    "\n",
    "import networkx\n",
    "import scipy.stats\n",
    "import matplotlib.pyplot as plt\n",
    "import pandas as pd\n",
    "import pymc3 as pm"
   ]
  },
  {
   "cell_type": "markdown",
   "metadata": {},
   "source": [
    "Para realizar el aprendizaje de estructuras, basta con implementar un par de pequeños módulos de Python:"
   ]
  },
  {
   "cell_type": "code",
   "execution_count": 25,
   "metadata": {},
   "outputs": [],
   "source": [
    "from bn.bayesian_network import BayesianNetwork\n",
    "from bn.dag import DAG\n",
    "from bn.dag_prior import DAGPrior\n",
    "from bn.sampler import StructureMCMC\n",
    "from bn.variable import Variable"
   ]
  },
  {
   "cell_type": "markdown",
   "metadata": {},
   "source": [
    "Supondremos que las variables $ X_i $ que usamos son categóricas, de modo que las distribuciones condicionales locales $ P (X_i \\ mid \\ mathbf {pa} _ {X_i}) $ pueden expresarse como tablas de probabilidad. Para codificar esto correctamente, creé una clase Variable que describe una variable que puede tener padres. Por ejemplo, para la red de estudiantes una variable es la dificultad:"
   ]
  },
  {
   "cell_type": "code",
   "execution_count": 9,
   "metadata": {},
   "outputs": [
    {
     "name": "stdout",
     "output_type": "stream",
     "text": [
      "  difficulty  probability\n",
      "0       easy          0.6\n",
      "1       hard          0.4\n"
     ]
    }
   ],
   "source": [
    "difficulty = Variable(\n",
    "  \"difficulty\", [\"easy\", \"hard\"],\n",
    "  pd.DataFrame(\n",
    "    {\"difficulty\": [\"easy\", \"hard\"],\n",
    "     \"probability\": [0.6, 0.4]}))\n",
    "print(difficulty.lpd)"
   ]
  },
  {
   "cell_type": "markdown",
   "metadata": {},
   "source": [
    "Hacer esto también para todas las demás variables nos da toda la red de estudiantes. Sin embargo, estoy usando has_studied en lugar de inteligencia, porque es una forma más sensible de clasificar a las personas."
   ]
  },
  {
   "cell_type": "code",
   "execution_count": 10,
   "metadata": {},
   "outputs": [
    {
     "name": "stdout",
     "output_type": "stream",
     "text": [
      "  has_studied  probability\n",
      "0          no          0.7\n",
      "1         yes          0.3\n"
     ]
    }
   ],
   "source": [
    "has_studied = Variable(\n",
    "  \"has_studied\", [\"no\", \"yes\"],\n",
    "  pd.DataFrame(\n",
    "    {\"has_studied\": [\"no\", \"yes\"],\n",
    "     \"probability\": [0.7, 0.3]}))\n",
    "print(has_studied.lpd)"
   ]
  },
  {
   "cell_type": "code",
   "execution_count": 11,
   "metadata": {},
   "outputs": [
    {
     "name": "stdout",
     "output_type": "stream",
     "text": [
      "  has_studied   sat  probability\n",
      "0          no   low         0.95\n",
      "1          no  high         0.05\n",
      "2         yes   low         0.20\n",
      "3         yes  high         0.80\n"
     ]
    }
   ],
   "source": [
    "sat = Variable(\n",
    "  \"sat\", [\"low\", \"high\"],\n",
    "  pd.DataFrame(\n",
    "    {\"has_studied\": numpy.repeat([\"no\", \"yes\"], 2),\n",
    "     \"sat\": numpy.tile([\"low\", \"high\"], 2),\n",
    "     \"probability\": [0.95, 0.05, 0.2, 0.8]}))\n",
    "print(sat.lpd)"
   ]
  },
  {
   "cell_type": "code",
   "execution_count": 12,
   "metadata": {},
   "outputs": [
    {
     "name": "stdout",
     "output_type": "stream",
     "text": [
      "  grade  letter  probability\n",
      "0  good    weak         0.10\n",
      "1  good  strong         0.90\n",
      "2    ok    weak         0.40\n",
      "3    ok  strong         0.60\n",
      "4   bad    weak         0.99\n",
      "5   bad  strong         0.01\n"
     ]
    }
   ],
   "source": [
    "letter = Variable(\n",
    "  \"letter\", [\"weak\", \"strong\"],\n",
    "  pd.DataFrame(\n",
    "    {\"grade\": numpy.repeat([\"good\", \"ok\", \"bad\"], 2),\n",
    "     \"letter\": numpy.tile([\"weak\", \"strong\"], 3),\n",
    "     \"probability\": [0.1, 0.9, 0.4, 0.6, 0.99, 0.01]}))\n",
    "print(letter.lpd)"
   ]
  },
  {
   "cell_type": "code",
   "execution_count": 13,
   "metadata": {},
   "outputs": [
    {
     "name": "stdout",
     "output_type": "stream",
     "text": [
      "   difficulty has_studied grade  probability\n",
      "0        easy          no  good         0.30\n",
      "1        easy          no    ok         0.40\n",
      "2        easy          no   bad         0.30\n",
      "3        hard          no  good         0.05\n",
      "4        hard          no    ok         0.25\n",
      "5        hard          no   bad         0.70\n",
      "6        easy         yes  good         0.90\n",
      "7        easy         yes    ok         0.08\n",
      "8        easy         yes   bad         0.02\n",
      "9        hard         yes  good         0.50\n",
      "10       hard         yes    ok         0.30\n",
      "11       hard         yes   bad         0.20\n"
     ]
    }
   ],
   "source": [
    "grade = Variable(\n",
    "  \"grade\", [\"good\", \"ok\", \"bad\"],\n",
    "  pd.DataFrame(\n",
    "    {\"difficulty\": numpy.tile(numpy.repeat([\"easy\", \"hard\"], 3), 2),\n",
    "     \"has_studied\": numpy.repeat([\"no\", \"yes\"], 6),\n",
    "     \"grade\": numpy.tile([\"good\", \"ok\", \"bad\"], 4),\n",
    "     \"probability\": [0.3, 0.4, 0.3, 0.05, 0.25, 0.7, 0.9, 0.08, 0.02, 0.5, 0.3, 0.2]}))\n",
    "print(grade.lpd)"
   ]
  },
  {
   "cell_type": "markdown",
   "metadata": {},
   "source": [
    "Además, necesitamos alguna clase que codifique la estructura en sí, es decir, una variable aleatoria que podamos optimizar. Es más fácil ecnodar la estructura como una matriz de adyacencia $ G $:"
   ]
  },
  {
   "cell_type": "code",
   "execution_count": 14,
   "metadata": {},
   "outputs": [],
   "source": [
    "adj = numpy.array(\n",
    "  [\n",
    "      [0, 1, 0, 0, 0],\n",
    "      [0, 0, 0, 1, 0],\n",
    "      [0, 1, 0, 0, 1],\n",
    "      [0, 0, 0, 0, 0],\n",
    "      [0, 0, 0, 0, 0]\n",
    "  ], dtype=numpy.int8)"
   ]
  },
  {
   "cell_type": "markdown",
   "metadata": {},
   "source": [
    "Las variables $ X_i $ y el adj $ G $ definen la red bayesiana. Una red bayesiana es una variable aleatoria, por lo que la colocamos en un bloque modelo. Por ahora, mantenemos el DAG fijo."
   ]
  },
  {
   "cell_type": "code",
   "execution_count": 16,
   "metadata": {},
   "outputs": [],
   "source": [
    "with pm.Model() as m:\n",
    "    dag = DAG(variables=[difficulty, grade, has_studied, letter, sat], adj=adj)\n",
    "    bn = BayesianNetwork('bn', dag=dag)"
   ]
  },
  {
   "cell_type": "markdown",
   "metadata": {},
   "source": [
    "Visualicemos la red:"
   ]
  },
  {
   "cell_type": "code",
   "execution_count": 17,
   "metadata": {},
   "outputs": [
    {
     "data": {
      "image/png": "[encoded data removed]",
      "text/plain": [
       "<Figure size 432x288 with 1 Axes>"
      ]
     },
     "metadata": {},
     "output_type": "display_data"
    }
   ],
   "source": [
    "G = bn.distribution.as_graph()\n",
    "layout = networkx.shell_layout(G)\n",
    "layout[difficulty] = numpy.array([2, 4])\n",
    "layout[has_studied] = numpy.array([4, 4])\n",
    "layout[grade] = numpy.array([3, 3])\n",
    "layout[letter] = numpy.array([3, 2])\n",
    "layout[sat] = numpy.array([4, 3])\n",
    "\n",
    "networkx.draw(G, pos=layout, with_labels=True)"
   ]
  },
  {
   "cell_type": "markdown",
   "metadata": {},
   "source": [
    "Como implementamos todo contra PyMC podemos usar la red para generar datos:"
   ]
  },
  {
   "cell_type": "code",
   "execution_count": 26,
   "metadata": {},
   "outputs": [],
   "source": [
    "with m:    \n",
    "    data = pm.sample_prior_predictive(1000, random_seed=23)['bn']"
   ]
  },
  {
   "cell_type": "markdown",
   "metadata": {},
   "source": [
    "Tenga en cuenta que cuando creamos la fecha, se codifica como números enteros para cumplir con PyMC."
   ]
  },
  {
   "cell_type": "code",
   "execution_count": 19,
   "metadata": {},
   "outputs": [
    {
     "data": {
      "text/html": [
       "<div>\n",
       "<style scoped>\n",
       "    .dataframe tbody tr th:only-of-type {\n",
       "        vertical-align: middle;\n",
       "    }\n",
       "\n",
       "    .dataframe tbody tr th {\n",
       "        vertical-align: top;\n",
       "    }\n",
       "\n",
       "    .dataframe thead th {\n",
       "        text-align: right;\n",
       "    }\n",
       "</style>\n",
       "<table border=\"1\" class=\"dataframe\">\n",
       "  <thead>\n",
       "    <tr style=\"text-align: right;\">\n",
       "      <th></th>\n",
       "      <th>difficulty</th>\n",
       "      <th>grade</th>\n",
       "      <th>has_studied</th>\n",
       "      <th>letter</th>\n",
       "      <th>sat</th>\n",
       "    </tr>\n",
       "  </thead>\n",
       "  <tbody>\n",
       "    <tr>\n",
       "      <th>0</th>\n",
       "      <td>1</td>\n",
       "      <td>0</td>\n",
       "      <td>0</td>\n",
       "      <td>0</td>\n",
       "      <td>1</td>\n",
       "    </tr>\n",
       "    <tr>\n",
       "      <th>1</th>\n",
       "      <td>0</td>\n",
       "      <td>0</td>\n",
       "      <td>0</td>\n",
       "      <td>0</td>\n",
       "      <td>0</td>\n",
       "    </tr>\n",
       "    <tr>\n",
       "      <th>2</th>\n",
       "      <td>1</td>\n",
       "      <td>0</td>\n",
       "      <td>0</td>\n",
       "      <td>0</td>\n",
       "      <td>1</td>\n",
       "    </tr>\n",
       "    <tr>\n",
       "      <th>3</th>\n",
       "      <td>0</td>\n",
       "      <td>1</td>\n",
       "      <td>1</td>\n",
       "      <td>0</td>\n",
       "      <td>1</td>\n",
       "    </tr>\n",
       "    <tr>\n",
       "      <th>4</th>\n",
       "      <td>0</td>\n",
       "      <td>0</td>\n",
       "      <td>1</td>\n",
       "      <td>1</td>\n",
       "      <td>0</td>\n",
       "    </tr>\n",
       "  </tbody>\n",
       "</table>\n",
       "</div>"
      ],
      "text/plain": [
       "  difficulty grade has_studied letter sat\n",
       "0          1     0           0      0   1\n",
       "1          0     0           0      0   0\n",
       "2          1     0           0      0   1\n",
       "3          0     1           1      0   1\n",
       "4          0     0           1      1   0"
      ]
     },
     "execution_count": 19,
     "metadata": {},
     "output_type": "execute_result"
    }
   ],
   "source": [
    "data.head()"
   ]
  },
  {
   "cell_type": "markdown",
   "metadata": {},
   "source": [
    "También podemos tomar muestras de la parte posterior. Sin embargo, para el aprendizaje de estructuras, generalmente nos interesan las estimaciones puntuales y no el posterior completo. Dado que el espacio DAG es demasiado grande, hacer una inferencia bayesiana adecuada es inútil de todos modos.\n",
    "\n",
    "Si queremos muestrear desde la parte posterior, debemos tratar el DAG como una variable aleatoria, por lo que el bloque de código cambia un poco. Hacer inferencia posterior requirió la implementación de un muestreador adecuado (estructura MCMC), que puede agregar / eliminar / invertir bordes del DAG."
   ]
  },
  {
   "cell_type": "code",
   "execution_count": 20,
   "metadata": {},
   "outputs": [
    {
     "name": "stderr",
     "output_type": "stream",
     "text": [
      "Only 5 samples in chain.\n",
      "Sequential sampling (1 chains in 1 job)\n",
      "StructureMCMC: [dag]\n"
     ]
    },
    {
     "data": {
      "text/html": [
       "\n",
       "    <div>\n",
       "        <style>\n",
       "            /* Turns off some styling */\n",
       "            progress {\n",
       "                /* gets rid of default border in Firefox and Opera. */\n",
       "                border: none;\n",
       "                /* Needs to be in here for Safari polyfill so background images work as expected. */\n",
       "                background-size: auto;\n",
       "            }\n",
       "            .progress-bar-interrupted, .progress-bar-interrupted::-webkit-progress-bar {\n",
       "                background: #F44336;\n",
       "            }\n",
       "        </style>\n",
       "      <progress value='6' class='' max='6' style='width:300px; height:20px; vertical-align: middle;'></progress>\n",
       "      100.00% [6/6 00:01<00:00 Sampling chain 0, 0 divergences]\n",
       "    </div>\n",
       "    "
      ],
      "text/plain": [
       "<IPython.core.display.HTML object>"
      ]
     },
     "metadata": {},
     "output_type": "display_data"
    },
    {
     "name": "stderr",
     "output_type": "stream",
     "text": [
      "Sampling 1 chain for 1 tune and 5 draw iterations (1 + 5 draws total) took 2 seconds.\n",
      "C:\\Users\\gatit\\anaconda3\\lib\\site-packages\\arviz\\data\\io_pymc3.py:307: UserWarning: Could not compute log_likelihood, it will be omitted. Check your model object or set log_likelihood=False\n",
      "  warnings.warn(warn_msg)\n",
      "C:\\Users\\gatit\\anaconda3\\lib\\site-packages\\pymc3\\sampling.py:629: UserWarning: The number of samples is too small to check convergence reliably.\n",
      "  \"The number of samples is too small to check convergence reliably.\"\n"
     ]
    }
   ],
   "source": [
    "with pm.Model():\n",
    "    dag = DAGPrior(\n",
    "        'dag', variables=[difficulty, grade, has_studied, letter, sat])\n",
    "    bn = BayesianNetwork('bn', dag=dag, observed=data)\n",
    "    step = StructureMCMC([dag], data=data)\n",
    "    trace = pm.sample(draws=5, tune=1, chains=1, cores=1,\n",
    "                      step=step, random_seed=23)"
   ]
  },
  {
   "cell_type": "code",
   "execution_count": 21,
   "metadata": {},
   "outputs": [
    {
     "data": {
      "text/plain": [
       "array([[[0, 0, 0, 1, 0],\n",
       "        [0, 0, 0, 0, 0],\n",
       "        [0, 1, 0, 1, 1],\n",
       "        [0, 0, 0, 0, 0],\n",
       "        [1, 0, 0, 0, 0]],\n",
       "\n",
       "       [[0, 0, 0, 1, 0],\n",
       "        [0, 0, 0, 0, 0],\n",
       "        [0, 1, 0, 1, 1],\n",
       "        [0, 0, 0, 0, 0],\n",
       "        [1, 0, 0, 0, 0]],\n",
       "\n",
       "       [[0, 0, 0, 1, 0],\n",
       "        [0, 0, 0, 0, 0],\n",
       "        [0, 1, 0, 1, 1],\n",
       "        [0, 0, 0, 0, 0],\n",
       "        [1, 0, 0, 0, 0]],\n",
       "\n",
       "       [[0, 0, 0, 1, 0],\n",
       "        [0, 0, 0, 0, 0],\n",
       "        [0, 1, 0, 1, 1],\n",
       "        [0, 0, 0, 0, 0],\n",
       "        [1, 0, 0, 0, 0]],\n",
       "\n",
       "       [[0, 0, 0, 1, 0],\n",
       "        [0, 0, 0, 0, 0],\n",
       "        [0, 1, 0, 1, 1],\n",
       "        [0, 0, 0, 0, 0],\n",
       "        [1, 0, 0, 0, 0]]], dtype=int64)"
      ]
     },
     "execution_count": 21,
     "metadata": {},
     "output_type": "execute_result"
    }
   ],
   "source": [
    "trace['dag']"
   ]
  },
  {
   "cell_type": "markdown",
   "metadata": {},
   "source": [
    "Si queremos encontrar el DAG óptimo, necesitamos optimizar el objetivo. A partir de una muestra aleatoria de arriba:"
   ]
  },
  {
   "cell_type": "code",
   "execution_count": 22,
   "metadata": {},
   "outputs": [],
   "source": [
    "best = trace['dag'][0].copy()\n",
    "best_score = -numpy.Inf\n",
    "numpy.random.seed(2)\n",
    "\n",
    "for i in range(100):\n",
    "    adj, score = step.random(adj)\n",
    "    if best_score < score:\n",
    "        best = adj.copy()\n",
    "        best_score = score"
   ]
  },
  {
   "cell_type": "markdown",
   "metadata": {},
   "source": [
    "Veamos si la estructura aprendida está bien. Recuerde que solo podemos identificar la clase de equivalencia de un DAG, por lo que no se alarme si se invierten las flechas que no sean las estructuras en V.A partir de una muestra aleatoria de arriba:"
   ]
  },
  {
   "cell_type": "code",
   "execution_count": 24,
   "metadata": {},
   "outputs": [
    {
     "data": {
      "image/png": "[encoded data removed]",
      "text/plain": [
       "<Figure size 432x288 with 1 Axes>"
      ]
     },
     "metadata": {},
     "output_type": "display_data"
    }
   ],
   "source": [
    "G = bn.distribution.as_graph(best)\n",
    "networkx.draw(G, pos=layout, with_labels=True)"
   ]
  }
 ],
 "metadata": {
  "kernelspec": {
   "display_name": "Python 3",
   "language": "python",
   "name": "python3"
  },
  "language_info": {
   "codemirror_mode": {
    "name": "ipython",
    "version": 3
   },
   "file_extension": ".py",
   "mimetype": "text/x-python",
   "name": "python",
   "nbconvert_exporter": "python",
   "pygments_lexer": "ipython3",
   "version": "3.7.6"
  }
 },
 "nbformat": 4,
 "nbformat_minor": 4
}
