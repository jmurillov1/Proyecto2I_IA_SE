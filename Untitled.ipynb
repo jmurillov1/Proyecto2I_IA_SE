{
 "cells": [
  {
   "cell_type": "code",
   "execution_count": 4,
   "metadata": {},
   "outputs": [
    {
     "ename": "TypeError",
     "evalue": "a bytes-like object is required, not 'Response'",
     "output_type": "error",
     "traceback": [
      "\u001b[1;31m---------------------------------------------------------------------------\u001b[0m",
      "\u001b[1;31mTypeError\u001b[0m                                 Traceback (most recent call last)",
      "\u001b[1;32m<ipython-input-4-12229e813ea0>\u001b[0m in \u001b[0;36m<module>\u001b[1;34m\u001b[0m\n\u001b[0;32m     18\u001b[0m             \u001b[0mtext\u001b[0m\u001b[1;33m,\u001b[0m\u001b[1;33m\u001b[0m\u001b[1;33m\u001b[0m\u001b[0m\n\u001b[0;32m     19\u001b[0m             \u001b[0mvoice\u001b[0m\u001b[1;33m=\u001b[0m\u001b[1;34m'es-LA_SofiaVoice'\u001b[0m\u001b[1;33m,\u001b[0m\u001b[1;33m\u001b[0m\u001b[1;33m\u001b[0m\u001b[0m\n\u001b[1;32m---> 20\u001b[1;33m             \u001b[0maccept\u001b[0m\u001b[1;33m=\u001b[0m\u001b[1;34m'audio/ogg'\u001b[0m\u001b[1;33m\u001b[0m\u001b[1;33m\u001b[0m\u001b[0m\n\u001b[0m\u001b[0;32m     21\u001b[0m         ).get_result())\n\u001b[0;32m     22\u001b[0m     \u001b[0mprint\u001b[0m\u001b[1;33m(\u001b[0m\u001b[0mh\u001b[0m\u001b[1;33m)\u001b[0m\u001b[1;33m\u001b[0m\u001b[1;33m\u001b[0m\u001b[0m\n",
      "\u001b[1;31mTypeError\u001b[0m: a bytes-like object is required, not 'Response'"
     ]
    }
   ],
   "source": [
    "#!pip install python-vlc\n",
    "import vlc\n",
    "import json\n",
    "from ibm_watson import TextToSpeechV1\n",
    "from ibm_cloud_sdk_core.authenticators import IAMAuthenticator\n",
    "\n",
    "authenticator = IAMAuthenticator('j0kSWqlXptEXfuGqkuvZFLSxmMvfV7aHMYiAf7uze0x4')\n",
    "text_to_speech = TextToSpeechV1(\n",
    "    authenticator=authenticator\n",
    ")\n",
    "\n",
    "text=\"Hola\"\n",
    "text_to_speech.set_service_url('https://api.us-south.text-to-speech.watson.cloud.ibm.com/instances/7c2c7d18-8cc8-407f-b871-37f749ba9c5d')\n",
    "\n",
    "with open('audio2.ogg', 'wb') as audio_file:\n",
    "    audio_file.write(\n",
    "        text_to_speech.synthesize(\n",
    "            text,\n",
    "            voice='es-LA_SofiaVoice',\n",
    "            accept='audio/ogg'        \n",
    "        ).get_result().content)"
   ]
  },
  {
   "cell_type": "code",
   "execution_count": null,
   "metadata": {},
   "outputs": [],
   "source": []
  }
 ],
 "metadata": {
  "kernelspec": {
   "display_name": "Python 3",
   "language": "python",
   "name": "python3"
  },
  "language_info": {
   "codemirror_mode": {
    "name": "ipython",
    "version": 3
   },
   "file_extension": ".py",
   "mimetype": "text/x-python",
   "name": "python",
   "nbconvert_exporter": "python",
   "pygments_lexer": "ipython3",
   "version": "3.7.6"
  }
 },
 "nbformat": 4,
 "nbformat_minor": 4
}
